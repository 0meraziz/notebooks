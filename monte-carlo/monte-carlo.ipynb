{
 "cells": [
  {
   "cell_type": "code",
   "execution_count": 2,
   "metadata": {},
   "outputs": [],
   "source": [
    "import numpy as np\n",
    "import math\n",
    "import random\n",
    "import matplotlib.pyplot as plt "
   ]
  },
  {
   "cell_type": "markdown",
   "metadata": {},
   "source": [
    "# Estimating pi\n"
   ]
  },
  {
   "cell_type": "code",
   "execution_count": 29,
   "metadata": {},
   "outputs": [],
   "source": [
    "def simulate_pi(n_trials):\n",
    "    \n",
    "    success = 0\n",
    "    \n",
    "    for i in range(n_trials):\n",
    "        x = random.uniform(-1,1)\n",
    "        y = random.uniform(-1,1)\n",
    "        \n",
    "        if x**2 + y**2 < 1:\n",
    "            success += 1\n",
    "            \n",
    "    piApprox = 4 * (success/n_trials)\n",
    "    errorPct = 100 * (np.abs(math.pi-piApprox)/math.pi)\n",
    "    \n",
    "    print('Estimated pi: {:.7f}'.format(piApprox))\n",
    "    print('pi: {:.7f}.'.format(math.pi))\n",
    "    print('Error: {:.2f}%'.format(errorPct))"
   ]
  },
  {
   "cell_type": "code",
   "execution_count": 30,
   "metadata": {},
   "outputs": [
    {
     "name": "stdout",
     "output_type": "stream",
     "text": [
      "Estimated pi: 3.1419480\n",
      "pi: 3.1415927.\n",
      "Error: 0.01%\n"
     ]
    }
   ],
   "source": [
    "simulate_pi(1_000_000)"
   ]
  },
  {
   "cell_type": "markdown",
   "metadata": {},
   "source": [
    "# The Birthday Paradox"
   ]
  },
  {
   "cell_type": "code",
   "execution_count": 34,
   "metadata": {},
   "outputs": [],
   "source": [
    "def simulate_birthdays(num_people, n_trials):\n",
    "    \n",
    "    success = 0 \n",
    "    \n",
    "    birthdays = np.arange(365, dtype='int')\n",
    "    \n",
    "    for i in range(n_trials):\n",
    "        birthdayList = []\n",
    "        for person in range(num_people):\n",
    "            birthdayList.append(random.choice(birthdays))\n",
    "        if len(set(birthdayList)) != len(birthdayList):\n",
    "            success += 1\n",
    "    \n",
    "    birthdayProb = success/n_trials\n",
    "    \n",
    "    print('{:.2f} probability of 2 people sharing a birthday in a group of {} people'.format(birthdayProb, num_people))"
   ]
  },
  {
   "cell_type": "code",
   "execution_count": 36,
   "metadata": {},
   "outputs": [
    {
     "name": "stdout",
     "output_type": "stream",
     "text": [
      "0.22 probability of 2 people sharing a birthday in a group of 14 people\n"
     ]
    }
   ],
   "source": [
    "simulate_birthdays(14,100_000)"
   ]
  },
  {
   "cell_type": "markdown",
   "metadata": {},
   "source": [
    "# Monty Hall Problem"
   ]
  },
  {
   "cell_type": "code",
   "execution_count": 66,
   "metadata": {},
   "outputs": [],
   "source": [
    "def play_game():\n",
    "\n",
    "    guestchoice = random.randint(0,2)\n",
    "    X = [0,1,2] \n",
    "    random.shuffle(X)\n",
    "    prizeDoor, goat1Door, goat2Door = X\n",
    "\n",
    "    show_goat = False\n",
    "    while not show_goat:\n",
    "\n",
    "        montysChoice = random.randint(0,2)\n",
    "        if montysChoice != guestchoice and montysChoice != prizeDoor:\n",
    "            show_goat=True\n",
    "\n",
    "    door_switch = False\n",
    "    while not door_switch:\n",
    "        \n",
    "        newDoor = random.randint(0,2)\n",
    "        if newDoor != guestchoice and newDoor != montysChoice:\n",
    "            door_switch = True\n",
    "\n",
    "    return prizeDoor, newDoor\n"
   ]
  },
  {
   "cell_type": "code",
   "execution_count": 79,
   "metadata": {},
   "outputs": [],
   "source": [
    "def simulate_monty_hall(n_trials):\n",
    "    \n",
    "    success = 0\n",
    "    \n",
    "    for i in range(n_trials):\n",
    "        \n",
    "        prizedoor, newdoor = play_game()\n",
    "        if prizedoor == newdoor:\n",
    "            success += 1 \n",
    "        \n",
    "    probWin = success/n_trials\n",
    "    theoretical = 2/3\n",
    "    \n",
    "    print(f'{probWin:.2f} probability of winning if door switched')\n",
    "        "
   ]
  },
  {
   "cell_type": "code",
   "execution_count": 78,
   "metadata": {},
   "outputs": [
    {
     "name": "stdout",
     "output_type": "stream",
     "text": [
      "0.67 probabability if winning of door switched\n"
     ]
    }
   ],
   "source": [
    "simulate_monty_hall(100000)"
   ]
  },
  {
   "cell_type": "code",
   "execution_count": null,
   "metadata": {},
   "outputs": [],
   "source": []
  }
 ],
 "metadata": {
  "kernelspec": {
   "display_name": "Python 3",
   "language": "python",
   "name": "python3"
  },
  "language_info": {
   "codemirror_mode": {
    "name": "ipython",
    "version": 3
   },
   "file_extension": ".py",
   "mimetype": "text/x-python",
   "name": "python",
   "nbconvert_exporter": "python",
   "pygments_lexer": "ipython3",
   "version": "3.8.6"
  },
  "toc": {
   "base_numbering": 1,
   "nav_menu": {},
   "number_sections": true,
   "sideBar": true,
   "skip_h1_title": false,
   "title_cell": "Table of Contents",
   "title_sidebar": "Contents",
   "toc_cell": false,
   "toc_position": {},
   "toc_section_display": true,
   "toc_window_display": false
  },
  "varInspector": {
   "cols": {
    "lenName": 16,
    "lenType": 16,
    "lenVar": 40
   },
   "kernels_config": {
    "python": {
     "delete_cmd_postfix": "",
     "delete_cmd_prefix": "del ",
     "library": "var_list.py",
     "varRefreshCmd": "print(var_dic_list())"
    },
    "r": {
     "delete_cmd_postfix": ") ",
     "delete_cmd_prefix": "rm(",
     "library": "var_list.r",
     "varRefreshCmd": "cat(var_dic_list()) "
    }
   },
   "types_to_exclude": [
    "module",
    "function",
    "builtin_function_or_method",
    "instance",
    "_Feature"
   ],
   "window_display": true
  }
 },
 "nbformat": 4,
 "nbformat_minor": 4
}
